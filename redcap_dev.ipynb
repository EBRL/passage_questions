{
 "metadata": {
  "name": "redcap_dev"
 },
 "nbformat": 3,
 "nbformat_minor": 0,
 "worksheets": [
  {
   "cells": [
    {
     "cell_type": "code",
     "collapsed": false,
     "input": [
      "from pandas import notnull\n",
      "from redcap import Project\n",
      "from passages import PassageRunner\n",
      "from secret import RC, PASSAGES, URL\n",
      "passages_project = Project(URL, PASSAGES)\n",
      "passages_data = passages_project.export_records(format='df')\n",
      "rc_project = Project(URL, RC)\n",
      "rc_data = rc_project.export_records(format='df')\n",
      "from pprint import pprint "
     ],
     "language": "python",
     "metadata": {},
     "outputs": [],
     "prompt_number": 1
    },
    {
     "cell_type": "code",
     "collapsed": false,
     "input": [
      "def rcid_from_passid(pass_id, rc_index):\n",
      "    # want to map RC_XXX to XXX_?????? in rc_index\n",
      "    behav = pass_id.split('RC_')[1]\n",
      "    matcher = '%s_'\n",
      "    matches = [ix for ix in rc_index if matcher % behav in ix]\n",
      "    if len(matches) != 1:\n",
      "        raise ValueError(\"more than one subject found with %s in their id\" % matcher)\n",
      "    else:\n",
      "        return matches[0]\n",
      "\n",
      "all_data = []\n",
      "for row in passages_data.index:\n",
      "    series = passages_data.ix[row]\n",
      "    label = series['subject_id_number']\n",
      "    if 'APM' in label:\n",
      "        continue\n",
      "    group = series['passage_group']\n",
      "    if notnull(label) and notnull(group):\n",
      "        pr = PassageRunner(label, int(group), series)\n",
      "        pr.process()\n",
      "        to_redcap = pr.convert_to_redcap()\n",
      "        to_redcap['participant_id'] = rcid_from_passid(to_redcap['participant_id'], rc_data.index)\n",
      "        all_data.append(to_redcap)\n"
     ],
     "language": "python",
     "metadata": {},
     "outputs": [],
     "prompt_number": 2
    },
    {
     "cell_type": "code",
     "collapsed": false,
     "input": [
      "response = rc_project.import_records(all_data)\n",
      "assert response['count'] == len(all_data)"
     ],
     "language": "python",
     "metadata": {},
     "outputs": [],
     "prompt_number": 3
    }
   ],
   "metadata": {}
  }
 ]
}